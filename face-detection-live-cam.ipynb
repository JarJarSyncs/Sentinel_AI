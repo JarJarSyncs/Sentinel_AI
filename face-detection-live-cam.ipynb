{
 "cells": [
  {
   "cell_type": "code",
   "execution_count": 1,
   "id": "6e5fa286-347e-409c-a225-ee0698c65ed9",
   "metadata": {},
   "outputs": [],
   "source": [
    "import cv2\n",
    "import numpy as np\n",
    "from skimage import io\n",
    "from batch_face import RetinaFace, LandmarkPredictor, SixDRep, draw_landmarks, Timer\n",
    "import time"
   ]
  },
  {
   "cell_type": "code",
   "execution_count": 2,
   "id": "232b3c96-76e4-43ab-b747-2a7b464ece4b",
   "metadata": {},
   "outputs": [],
   "source": [
    "def get_landmarks(frame, faces):\n",
    "    ### Predict landmarks from given face co-ordinates ###\n",
    "    landmarks = predictor(faces, frame, from_fd=True)\n",
    "    return landmarks"
   ]
  },
  {
   "cell_type": "code",
   "execution_count": 3,
   "id": "23d0b087-9816-4f11-88f1-2933902ac643",
   "metadata": {},
   "outputs": [],
   "source": [
    "def draw_landmarks_cv(frame, faces, landmarks):\n",
    "    ### Draw landmarks on faces using CV2 - Possible to draw multiple faces with a For loop, however we are only interested in having one face in the frame ### \n",
    "    frame = draw_landmarks(frame, faces[0][0], landmarks[0])\n",
    "    return frame"
   ]
  },
  {
   "cell_type": "code",
   "execution_count": 4,
   "id": "b22e115f-725e-4441-aa6e-6b27f035df37",
   "metadata": {},
   "outputs": [],
   "source": [
    "def get_head_pose(frame, faces_pose):\n",
    "    head_poses = head_pose_estimator(faces_pose, frame, input_face_type='tuple', update_dict=True)\n",
    "    return head_poses"
   ]
  },
  {
   "cell_type": "code",
   "execution_count": 5,
   "id": "1ecd1330-e11f-46e0-8bdb-3e3309af5ef3",
   "metadata": {},
   "outputs": [],
   "source": [
    "def draw_head_pose_cube_cv(frame, faces, pose):\n",
    "    head_pose_estimator.plot_pose_cube(frame, faces[0][0], **pose)"
   ]
  },
  {
   "cell_type": "code",
   "execution_count": 6,
   "id": "4d2f7a89-bc2a-4924-8ea5-49852d29de1c",
   "metadata": {},
   "outputs": [],
   "source": [
    "def updated_bbox(landmarks):\n",
    "    ldm_new = landmarks[0]\n",
    "    (x1, y1), (x2, y2) = ldm_new.min(0), ldm_new.max(0)\n",
    "    box_new = np.array([x1, y1, x2, y2])\n",
    "    box_new[:2] -= 10\n",
    "    box_new[2:] += 10\n",
    "    faces = [[box_new, None, None]]\n",
    "    return faces"
   ]
  },
  {
   "cell_type": "markdown",
   "id": "6ba68f2c-8590-4610-8ac1-a01bc9eb1af5",
   "metadata": {},
   "source": [
    "Opens camera and passes frames to functions, comment/uncomment functions for desired tracking"
   ]
  },
  {
   "cell_type": "code",
   "execution_count": 8,
   "id": "dfb35c8d-471b-4448-bb59-f17bb6426fc7",
   "metadata": {
    "scrolled": true
   },
   "outputs": [],
   "source": [
    "### Open camera ###\n",
    "cap = cv2.VideoCapture(0)\n",
    "detector = RetinaFace(0)\n",
    "predictor = LandmarkPredictor(0)\n",
    "head_pose_estimator = SixDRep(0)\n",
    "detect_time = time.time()\n",
    "faces = None\n",
    "\n",
    "while True:\n",
    "    # Capture frame-by-frame\n",
    "    ret, frame = cap.read()\n",
    "    loop_time = time.time()\n",
    "    \n",
    "    ### NOTE: RGB values are normalized within RetinaFace ###\n",
    "    ### Detect faces if none exist ###\n",
    "    \n",
    "    # Calculate the time difference\n",
    "    elapsed_time = time.time() - detect_time\n",
    "\n",
    "    # Check if n seconds has passed: The shorter the elapsed time - the more face detections are done, but also the lower the fps and efficiency\n",
    "    if faces is None or elapsed_time >= 1:\n",
    "        faces = detector(frame, cv=True, threshold=0.5)\n",
    "        detect_time = time.time()\n",
    "    else:\n",
    "        ### This is an efficiency method of predicting the face bound-box - especially for live camera. It uses the min and max values from the results of the previous landmark 'predictor' function. Helps increase the fps rate ###\n",
    "        ### However, it will not detect new faces, or when a face has gone ###\n",
    "        faces = updated_bbox(landmarks)\n",
    "\n",
    "    if len(faces) == 0:\n",
    "        print(\"NO face is detected!\")\n",
    "        continue\n",
    "\n",
    "    ### Predict landmarks from face ###\n",
    "    landmarks = get_landmarks(frame, faces)\n",
    "\n",
    "    ### Estimate head pose from face ###\n",
    "    pose = get_head_pose(frame, faces)\n",
    "    \n",
    "    ### Draw landmarks (AND/OR) pose cube ###\n",
    "    frame = draw_landmarks_cv(frame, faces, landmarks)\n",
    "    draw_head_pose_cube_cv(frame, faces, pose[0])\n",
    "\n",
    "    # Calculate and display FPS, Pitch, Yaw and Roll\n",
    "    fps = 1 / (time.time() - loop_time)\n",
    "    cv2.putText(frame, f\"FPS: {fps:.2f}\", (10, 30), cv2.FONT_HERSHEY_SIMPLEX, 0.8, (0, 0, 255), 2)\n",
    "    cv2.putText(frame, f\"Pitch: {pose[0]['pitch']:.2f}\", (10, 70), cv2.FONT_HERSHEY_SIMPLEX, 0.7, (0, 255, 0), 2)\n",
    "    cv2.putText(frame, f\"Yaw: {pose[0]['yaw']:.2f}\", (10, 100), cv2.FONT_HERSHEY_SIMPLEX, 0.7, (0, 255, 0), 2)\n",
    "    cv2.putText(frame, f\"Roll: {pose[0]['roll']:.2f}\", (10, 130), cv2.FONT_HERSHEY_SIMPLEX, 0.7, (0, 255, 0), 2)\n",
    "    \n",
    "    ### Display the resulting frame ###\n",
    "    cv2.imshow('', frame)\n",
    "\n",
    "    ### Press 'q' to exit the video window ###\n",
    "    if cv2.waitKey(1) & 0xFF == ord('q'):\n",
    "        break\n",
    "\n",
    "### Release the capture when done ###\n",
    "cap.release()\n",
    "cv2.destroyAllWindows()"
   ]
  }
 ],
 "metadata": {
  "kernelspec": {
   "display_name": "Python 3",
   "language": "python",
   "name": "python3"
  },
  "language_info": {
   "codemirror_mode": {
    "name": "ipython",
    "version": 3
   },
   "file_extension": ".py",
   "mimetype": "text/x-python",
   "name": "python",
   "nbconvert_exporter": "python",
   "pygments_lexer": "ipython3",
   "version": "3.12.5 (tags/v3.12.5:ff3bc82, Aug  6 2024, 20:45:27) [MSC v.1940 64 bit (AMD64)]"
  },
  "vscode": {
   "interpreter": {
    "hash": "e4ddd2c23c291ca41a30efe192477b0967ab2f83f0d470686ada35863dfaa7bf"
   }
  }
 },
 "nbformat": 4,
 "nbformat_minor": 5
}
