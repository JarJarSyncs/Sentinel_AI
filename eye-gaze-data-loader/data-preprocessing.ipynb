{
 "cells": [
  {
   "cell_type": "code",
   "execution_count": 18,
   "metadata": {},
   "outputs": [],
   "source": [
    "import os\n",
    "from face_eye_crop import get_input_data\n",
    "import cv2"
   ]
  },
  {
   "cell_type": "code",
   "execution_count": 25,
   "metadata": {},
   "outputs": [],
   "source": [
    "def transform_cgds(cgds_path, new_dataset_path):\n",
    "    n = 0\n",
    "    \n",
    "    # Walk through all subdirectories and files in cgds_path\n",
    "    for root, dirs, files in os.walk(cgds_path):\n",
    "        for i in files:\n",
    "            # Full path to the image file\n",
    "            full_path = os.path.join(root, i)\n",
    "\n",
    "            params = i.split('.')[0].split('_')\n",
    "\n",
    "            # Continue if params length is less than 5\n",
    "            if len(params) < 5:\n",
    "                continue\n",
    "            \n",
    "            subject = params[0]\n",
    "            head_angle = params[2]\n",
    "            eye_pitch = params[3]\n",
    "            eye_yaw = params[4]\n",
    "\n",
    "            # Read the image\n",
    "            image = cv2.imread(full_path)\n",
    "            input_data = get_input_data(image, 0.7)\n",
    "\n",
    "            # Continue if no face is found\n",
    "            if len(input_data) == 0:\n",
    "                print('No face found')\n",
    "                continue\n",
    "\n",
    "            input_data = input_data[0]\n",
    "            image = input_data['image']\n",
    "\n",
    "            # Construct new name using subject, head angle, pitch, yaw, and predicted degrees\n",
    "            new_name = '_'.join([subject, head_angle, eye_pitch, eye_yaw, str(round(input_data['p_pred_deg'].item(), 2)),\n",
    "                                 str(round(input_data['r_pred_deg'].item(), 2)), \n",
    "                                 str(round(input_data['y_pred_deg'].item(), 2)), str(n)]) + '.jpg'\n",
    "            \n",
    "            # Resize and save the image\n",
    "            image = cv2.resize(image, (210, 70), interpolation=cv2.INTER_AREA)\n",
    "            cv2.imwrite(os.path.join(new_dataset_path, new_name), image)\n",
    "\n",
    "            n += 1\n"
   ]
  },
  {
   "cell_type": "code",
   "execution_count": 20,
   "metadata": {},
   "outputs": [],
   "source": [
    "def mirror_cgds(cgds_path, new_dataset_path):\n",
    "    images = os.listdir(cgds_path)\n",
    "    for i in images:\n",
    "        params = i.split('.')[0].split('_')\n",
    "        if len(params) != 5:\n",
    "            continue\n",
    "        params[4] = f'{str(-int(params[4][:-1]))}H'\n",
    "        params.append('m')\n",
    "        full_path = os.path.join(cgds_path, i)\n",
    "        image = cv2.imread(full_path)\n",
    "        cv2.imwrite(os.path.join(new_dataset_path, i), image)\n",
    "        image = cv2.flip(image, 1)\n",
    "        new_name = ('_'.join(params) + '.jpg')\n",
    "        cv2.imwrite(os.path.join(new_dataset_path, new_name), image)\n",
    "        print(i)\n"
   ]
  },
  {
   "cell_type": "code",
   "execution_count": 21,
   "metadata": {},
   "outputs": [],
   "source": [
    "def rename_cgds(cgds_path, new_dataset_path):\n",
    "    images = os.listdir(cgds_path)\n",
    "    for i in images:\n",
    "        params = i.split('.')[0].split('_')\n",
    "        if len(params) != 5:\n",
    "            continue\n",
    "        params[4] = f'{str(int(params[4][:-1]) - int(params[2][:-1]))}H'\n",
    "        full_path = os.path.join(cgds_path, i)\n",
    "        image = cv2.imread(full_path)\n",
    "        new_name = ('_'.join(params) + '.jpg')\n",
    "        cv2.imwrite(os.path.join(new_dataset_path, new_name), image)\n",
    "        print(i)"
   ]
  },
  {
   "cell_type": "code",
   "execution_count": 26,
   "metadata": {},
   "outputs": [],
   "source": [
    "if __name__ == '__main__':\n",
    "    # rename_cgds('./datasets/columbia_gaze_data_set', './datasets/cgds_5')\n",
    "    #mirror_cgds('../datasets/columbia_gaze_data_set', '../datasets/cgds_mirrored')\n",
    "    transform_cgds('../datasets/cgds_mirrored/', '../datasets/cgds_m/')"
   ]
  }
 ],
 "metadata": {
  "kernelspec": {
   "display_name": "Python 3",
   "language": "python",
   "name": "python3"
  },
  "language_info": {
   "name": "python",
   "version": "3.10.14"
  }
 },
 "nbformat": 4,
 "nbformat_minor": 2
}
