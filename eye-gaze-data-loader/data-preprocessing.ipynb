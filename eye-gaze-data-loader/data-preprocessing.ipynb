{
 "cells": [
  {
   "cell_type": "code",
   "execution_count": 1,
   "metadata": {},
   "outputs": [],
   "source": [
    "import os\n",
    "from face_detect import get_input_data\n",
    "import cv2"
   ]
  },
  {
   "cell_type": "code",
   "execution_count": 2,
   "metadata": {},
   "outputs": [],
   "source": [
    "def transform_cgds(cgds_path, new_dataset_path):\n",
    "    images = os.listdir(cgds_path)\n",
    "    n = 0\n",
    "    for i in images:\n",
    "        params = i.split('.')[0].split('_')\n",
    "        full_path = os.path.join(cgds_path, i)\n",
    "        if len(params) < 5:\n",
    "            continue\n",
    "        subject = params[0]\n",
    "        head_angle = params[2]\n",
    "        eye_pitch = params[3]\n",
    "        eye_yaw = params[4]\n",
    "        image = cv2.imread(full_path)\n",
    "        input_data = get_input_data(image, 0.7)\n",
    "        if len(input_data) == 0:\n",
    "            print('No face found')\n",
    "            continue\n",
    "        input_data = input_data[0]\n",
    "        image = input_data['image']\n",
    "        new_name = '_'.join([subject, head_angle, eye_pitch, eye_yaw, str(round(input_data['p_pred_deg'].item(), 2)), str(\n",
    "            round(input_data['r_pred_deg'].item(), 2)), str(round(input_data['y_pred_deg'].item(), 2)), str(n)]) + '.jpg'\n",
    "        image = cv2.resize(image, (210, 70), interpolation=cv2.INTER_AREA)\n",
    "        cv2.imwrite(os.path.join(new_dataset_path, new_name), image)\n",
    "        n += 1\n"
   ]
  },
  {
   "cell_type": "code",
   "execution_count": 3,
   "metadata": {},
   "outputs": [],
   "source": [
    "def mirror_cgds(cgds_path, new_dataset_path):\n",
    "    images = os.listdir(cgds_path)\n",
    "    for i in images:\n",
    "        params = i.split('.')[0].split('_')\n",
    "        if len(params) != 5:\n",
    "            continue\n",
    "        params[4] = f'{str(-int(params[4][:-1]))}H'\n",
    "        params.append('m')\n",
    "        full_path = os.path.join(cgds_path, i)\n",
    "        image = cv2.imread(full_path)\n",
    "        cv2.imwrite(os.path.join(new_dataset_path, i), image)\n",
    "        image = cv2.flip(image, 1)\n",
    "        new_name = ('_'.join(params) + '.jpg')\n",
    "        cv2.imwrite(os.path.join(new_dataset_path, new_name), image)\n",
    "        print(i)"
   ]
  },
  {
   "cell_type": "code",
   "execution_count": 4,
   "metadata": {},
   "outputs": [],
   "source": [
    "def rename_cgds(cgds_path, new_dataset_path):\n",
    "    images = os.listdir(cgds_path)\n",
    "    for i in images:\n",
    "        params = i.split('.')[0].split('_')\n",
    "        if len(params) != 5:\n",
    "            continue\n",
    "        params[4] = f'{str(int(params[4][:-1]) - int(params[2][:-1]))}H'\n",
    "        full_path = os.path.join(cgds_path, i)\n",
    "        image = cv2.imread(full_path)\n",
    "        new_name = ('_'.join(params) + '.jpg')\n",
    "        cv2.imwrite(os.path.join(new_dataset_path, new_name), image)\n",
    "        print(i)\n"
   ]
  },
  {
   "cell_type": "code",
   "execution_count": null,
   "metadata": {},
   "outputs": [],
   "source": [
    "if __name__ == '__main__':\n",
    "    # rename_cgds('./datasets/columbia_gaze_data_set', './datasets/cgds_5')\n",
    "    mirror_cgds('./datasets/columbia_gaze_data_set', './datasets/cgds_mirrored')\n",
    "    transform_cgds('./datasets/cgds_mirrored/', './datasets/cgds_m/')\n"
   ]
  }
 ],
 "metadata": {
  "kernelspec": {
   "display_name": "Python 3",
   "language": "python",
   "name": "python3"
  },
  "language_info": {
   "codemirror_mode": {
    "name": "ipython",
    "version": 3
   },
   "file_extension": ".py",
   "mimetype": "text/x-python",
   "name": "python",
   "nbconvert_exporter": "python",
   "pygments_lexer": "ipython3",
   "version": "3.10.14"
  }
 },
 "nbformat": 4,
 "nbformat_minor": 2
}
