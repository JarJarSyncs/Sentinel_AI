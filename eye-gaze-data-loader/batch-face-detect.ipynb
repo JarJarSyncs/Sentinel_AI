{
 "cells": [
  {
   "cell_type": "code",
   "execution_count": 1,
   "id": "07e675cd",
   "metadata": {},
   "outputs": [],
   "source": [
    "import cv2\n",
    "from batch_face import (\n",
    "    RetinaFace,\n",
    "    drawLandmark_multiple,\n",
    "    LandmarkPredictor,\n",
    "    SixDRep\n",
    ")\n",
    "import os"
   ]
  },
  {
   "cell_type": "code",
   "execution_count": 2,
   "id": "582aebaa",
   "metadata": {},
   "outputs": [],
   "source": [
    "def draw_landmarks(faces, landmarks, poses, img):\n",
    "    head_pose = SixDRep(0)\n",
    "    for face, landmark, pose in zip(faces, landmarks, poses[0]):\n",
    "        img = drawLandmark_multiple(img, face[0], landmark)\n",
    "        head_pose.plot_pose_cube(img, face[0], pose['pitch'], pose['yaw'], pose['roll'])\n",
    "    return img"
   ]
  },
  {
   "cell_type": "code",
   "execution_count": 3,
   "id": "7e692fc5",
   "metadata": {},
   "outputs": [],
   "source": [
    "if __name__ == \"__main__\":\n",
    "    output_dir = \"./batch_img_results\"\n",
    "    os.makedirs(output_dir, exist_ok=True)\n",
    "    predictor = LandmarkPredictor(0, \"PFLD\")\n",
    "    detector = RetinaFace(0)\n",
    "    head_pose = SixDRep(0)\n",
    "    all_images = []\n",
    "    names = os.listdir(\"batch_img_intake\")\n",
    "\n",
    "    for name in names:\n",
    "        img = cv2.imread(os.path.join(\"batch_img_intake\", name))\n",
    "        all_images.append(img)\n",
    "\n",
    "    all_faces = detector.pseudo_batch_detect(\n",
    "        all_images, cv=True, threshold=0.9\n",
    "    )  # batch input\n",
    "    all_results = predictor(all_faces, all_images, from_fd=True)\n",
    "    poses = head_pose(all_faces, all_images)\n",
    "\n",
    "    assert len(all_results) == len(all_faces)\n",
    "\n",
    "    for faces, landmarks, img, name in zip(all_faces, all_results, all_images, names):\n",
    "        assert len(faces) == len(landmarks)\n",
    "        img = draw_landmarks(faces,landmarks,poses,img)\n",
    "        cv2.imwrite(os.path.join(output_dir, name), img)"
   ]
  }
 ],
 "metadata": {
  "kernelspec": {
   "display_name": "Eye-gaze",
   "language": "python",
   "name": "python3"
  },
  "language_info": {
   "codemirror_mode": {
    "name": "ipython",
    "version": 3
   },
   "file_extension": ".py",
   "mimetype": "text/x-python",
   "name": "python",
   "nbconvert_exporter": "python",
   "pygments_lexer": "ipython3",
   "version": "3.11.9"
  }
 },
 "nbformat": 4,
 "nbformat_minor": 5
}
