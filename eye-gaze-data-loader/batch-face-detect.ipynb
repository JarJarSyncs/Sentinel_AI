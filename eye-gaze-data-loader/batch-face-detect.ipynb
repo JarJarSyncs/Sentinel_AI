{
 "cells": [
  {
   "cell_type": "code",
   "execution_count": 1,
   "id": "07e675cd",
   "metadata": {},
   "outputs": [],
   "source": [
    "import cv2\n",
    "from batch_face import (\n",
    "    RetinaFace,\n",
    "    drawLandmark_multiple,\n",
    "    LandmarkPredictor,\n",
    "    SixDRep\n",
    ")\n",
    "import os"
   ]
  },
  {
   "cell_type": "code",
   "execution_count": 5,
   "id": "582aebaa",
   "metadata": {},
   "outputs": [],
   "source": [
    "def draw_landmarks(faces, landmarks, pose, img):\n",
    "    head_pose = SixDRep(gpu_id=-1) # change from 0 to gpu_id=-1 for Mac users\n",
    "    for face, landmark in zip(faces, landmarks):\n",
    "        img = drawLandmark_multiple(img, face[0], landmark)\n",
    "        head_pose.plot_pose_cube(img, face[0], pose['pitch'], pose['yaw'], pose['roll'])\n",
    "    return img"
   ]
  },
  {
   "cell_type": "code",
   "execution_count": 8,
   "id": "7e692fc5",
   "metadata": {},
   "outputs": [
    {
     "name": "stdout",
     "output_type": "stream",
     "text": [
      "File Name: obama.png, Pitch: -10.937263488769531, Yaw: 5.830609321594238, Roll 23.617137908935547\n",
      "File Name: obama.jpg, Pitch: -13.801589965820312, Yaw: 0.683098554611206, Roll -1.1091930866241455\n",
      "File Name: trump.jpg, Pitch: -12.918827056884766, Yaw: -8.755852699279785, Roll 1.0519715547561646\n"
     ]
    }
   ],
   "source": [
    "if __name__ == \"__main__\":\n",
    "    output_dir = \"./batch_img_results\"\n",
    "    os.makedirs(output_dir, exist_ok=True)\n",
    "\n",
    "    predictor = LandmarkPredictor(gpu_id=-1) # change from 0 to gpu_id=-1 for Mac users\n",
    "    detector = RetinaFace(gpu_id=-1) # change from 0 to gpu_id=-1 for Mac users\n",
    "    head_pose = SixDRep(gpu_id=-1) # change from 0 to gpu_id=-1 for Mac users\n",
    "\n",
    "    all_images = []\n",
    "    names = os.listdir(\"batch_img_intake\")\n",
    "\n",
    "    for name in names:\n",
    "        img = cv2.imread(os.path.join(\"batch_img_intake\", name))\n",
    "        all_images.append(img)\n",
    "\n",
    "    all_faces = detector.pseudo_batch_detect(\n",
    "        all_images, cv=True, threshold=0.9\n",
    "    )  # batch input\n",
    "    all_results = predictor(all_faces, all_images, from_fd=True)\n",
    "    poses = head_pose(all_faces, all_images)\n",
    "\n",
    "    assert len(all_results) == len(all_faces)\n",
    "\n",
    "    for faces, landmarks, img, name, pose in zip(all_faces, all_results, all_images, names, poses):\n",
    "        assert len(faces) == len(landmarks)\n",
    "        img = draw_landmarks(faces,landmarks,pose[0],img)\n",
    "        cv2.imwrite(os.path.join(output_dir, name), img)\n",
    "        pitch, yaw, roll = (pose[0]['pitch'], pose[0]['yaw'], pose[0]['roll'])\n",
    "        print(f\"File Name: {name}, Pitch: {pitch}, Yaw: {yaw}, Roll {roll}\")\n",
    "    "
   ]
  }
 ],
 "metadata": {
  "kernelspec": {
   "display_name": "Eye-gaze",
   "language": "python",
   "name": "python3"
  },
  "language_info": {
   "codemirror_mode": {
    "name": "ipython",
    "version": 3
   },
   "file_extension": ".py",
   "mimetype": "text/x-python",
   "name": "python",
   "nbconvert_exporter": "python",
   "pygments_lexer": "ipython3",
   "version": "3.10.14"
  }
 },
 "nbformat": 4,
 "nbformat_minor": 5
}
